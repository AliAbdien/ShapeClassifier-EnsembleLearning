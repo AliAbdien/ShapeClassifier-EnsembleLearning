{
 "cells": [
  {
   "cell_type": "markdown",
   "id": "08d96b0a",
   "metadata": {},
   "source": [
    "## Image Classification with Stacked Ensemble Models\n",
    "#\n",
    "This section includes necessary imports and setup for an advanced image classification task using stacked ensemble models. It utilizes various machine learning libraries such as scikit-learn for model training and evaluation, and XGBoost for powerful ensemble learning. Additionally, the code suppresses warnings for cleaner output.\n"
   ]
  },
  {
   "cell_type": "code",
   "execution_count": 1,
   "id": "69eb2a60",
   "metadata": {},
   "outputs": [],
   "source": [
    "import cv2\n",
    "import matplotlib.pyplot as plt\n",
    "import numpy as np\n",
    "import os\n",
    "import pandas as pd\n",
    "from tqdm import tqdm\n",
    "from sklearn.model_selection import train_test_split\n",
    "from sklearn.metrics import accuracy_score\n",
    "from sklearn.ensemble import StackingClassifier, RandomForestClassifier, GradientBoostingClassifier, ExtraTreesClassifier\n",
    "from xgboost import XGBClassifier\n",
    "import warnings\n",
    "warnings.filterwarnings('ignore')\n",
    "warnings.filterwarnings('ignore', category=FutureWarning)"
   ]
  },
  {
   "cell_type": "markdown",
   "id": "8ae2c2ff",
   "metadata": {},
   "source": [
    "#\n",
    "\n",
    "## Image Processing and Classification Functions\n",
    "\n",
    "This section defines several functions for image processing and classification:\n",
    "\n",
    "1. `imread(img_path)`: Reads an image from a given path and converts it from BGR to RGB color space.\n",
    "2. `imshow(img, figsize)`: Displays an image using Matplotlib with an optional figure size.\n",
    "3. `rgb2bin(img_rgb)`: Converts an RGB image to a binary image using Otsu's thresholding method.\n",
    "4. `find_best_contour(img_rgb)`: Finds the largest contour in an RGB image based on area.\n",
    "5. `draw_contours(img, contours, index, color, thickness)`: Draws specified contours on an image.\n",
    "6. `chain_hist(img_rgb)`: Creates a histogram of chain code directions from the largest contour in an image.\n",
    "7. `create_df(data_path)`: Creates a DataFrame from a dataset directory, categorizing images by class.\n",
    "8. `extract_features(img_paths)`: Extracts features from images at given paths, returning a NumPy array.\n",
    "9. `predict(model, img)`: Predicts the class of a given image using a trained model.\n",
    "10. `detect_connected_components(img, width_range, height_range)`: Detects connected components in an image, predicts their classes, and annotates the image with these predictions.\n",
    "\n",
    "These functions are essential for preprocessing images, extracting features, and utilizing a trained model for image classification tasks.\n"
   ]
  },
  {
   "cell_type": "code",
   "execution_count": 2,
   "id": "43bd0711",
   "metadata": {},
   "outputs": [],
   "source": [
    "# Function to read and convert an image from BGR to RGB\n",
    "def imread(img_path):\n",
    "    img = cv2.imread(img_path)\n",
    "    img = cv2.cvtColor(img, cv2.COLOR_BGR2RGB)\n",
    "    return img\n",
    "\n",
    "# Function to display an image\n",
    "def imshow(img, figsize=(5, 5)):\n",
    "    plt.figure(figsize=figsize)\n",
    "    plt.imshow(img, cmap='gray')\n",
    "    plt.show()\n",
    "\n",
    "# Function to convert an RGB image to binary\n",
    "def rgb2bin(img_rgb):\n",
    "    img_gray = cv2.cvtColor(img_rgb, cv2.COLOR_RGB2GRAY)\n",
    "    _, img_bin = cv2.threshold(img_gray, 0, 255, cv2.THRESH_OTSU|cv2.THRESH_BINARY_INV)\n",
    "    return img_bin\n",
    "\n",
    "# Function to find the largest contour in an image\n",
    "def find_best_contour(img_rgb):\n",
    "    img_bin = rgb2bin(img_rgb)\n",
    "    contours, _ = cv2.findContours(img_bin, cv2.RETR_EXTERNAL, cv2.CHAIN_APPROX_NONE)\n",
    "    best_contour = max(contours, key=cv2.contourArea)\n",
    "    return best_contour\n",
    "\n",
    "# Function to draw contours on an image\n",
    "def draw_contours(img, contours, index=-1, color=(255, 0, 0), thickness=2):\n",
    "    img_copy = img.copy()\n",
    "    cv2.drawContours(img_copy, contours, index, color, thickness)\n",
    "    imshow(img_copy)\n",
    "\n",
    "# Function to create a histogram of chain code directions\n",
    "def chain_hist(img_rgb):\n",
    "    best_contour = find_best_contour(img_rgb)\n",
    "    lookup_table = {(1, 0): 0, (1, -1): 1, (0, -1): 2, (-1, -1): 3,\n",
    "                    (-1, 0): 4, (-1, 1): 5, (0, 1): 6, (1, 1): 7}\n",
    "    hist = np.zeros((8,))\n",
    "    for i in range(len(best_contour)-1):\n",
    "        pt1 = best_contour[i][0]\n",
    "        pt2 = best_contour[i+1][0]\n",
    "        dx = pt2[0] - pt1[0]\n",
    "        dy = pt2[1] - pt1[1]\n",
    "        code = lookup_table[(dx, dy)]\n",
    "        hist[code] += 1\n",
    "    return hist/hist.sum()\n",
    "\n",
    "# Function to create a dataframe from the dataset directory\n",
    "def create_df(data_path):\n",
    "    dic = {'circle': 0, 'square': 1, 'star': 2, 'triangle': 3}\n",
    "    df = []\n",
    "    for class_name, class_value in dic.items():\n",
    "        class_folder = os.path.join(data_path, class_name)\n",
    "        for f in os.listdir(class_folder):\n",
    "            f_path = os.path.join(class_folder, f)\n",
    "            if f_path.lower().endswith('.png'):\n",
    "                df.append([f_path, class_value])\n",
    "    df = pd.DataFrame(df, columns=['path', 'output'])\n",
    "    return df\n",
    "\n",
    "# Function to extract features from the image paths\n",
    "def extract_features(img_paths):\n",
    "    n = len(img_paths)\n",
    "    X = np.zeros((n, 8))\n",
    "    for i in tqdm(range(n)):\n",
    "        f_path = img_paths[i]\n",
    "        img = imread(f_path)\n",
    "        features = chain_hist(img)\n",
    "        X[i] = features\n",
    "    return X\n",
    "\n",
    "# Function to predict the class of a given image\n",
    "def predict(model, img):\n",
    "    names = ['circle', 'square', 'star', 'triangle']\n",
    "    features = chain_hist(img)\n",
    "    prediction = model.predict([features])[0]\n",
    "    return names[prediction]\n",
    "\n",
    "# Detect connected components and predict labels\n",
    "def detect_connected_components(img, width_range, height_range):\n",
    "    binary_img = rgb2bin(img)\n",
    "    nLabels, labels, stats, centroids = cv2.connectedComponentsWithStats(binary_img, connectivity=4)\n",
    "    centroids = centroids.astype(int)\n",
    "    img_copy = img.copy()\n",
    "    for i in range(1, nLabels):\n",
    "        x, y, w, h, _ = stats[i]\n",
    "        (cx, cy) = centroids[i]\n",
    "        acceptWidth = width_range[0] < w < width_range[1]\n",
    "        acceptHeight = height_range[0] < h < height_range[1]\n",
    "        if acceptWidth and acceptHeight:\n",
    "            shape = img[y:y+h, x:x+w]\n",
    "            label = predict(stacked_model, shape)\n",
    "            cv2.rectangle(img_copy, (x, y), (x+w, y+h), (255, 0, 0), 2)\n",
    "            cv2.putText(img_copy, label, (x, y-4), cv2.FONT_HERSHEY_COMPLEX_SMALL, 0.6, (255, 0, 0))\n",
    "    imshow(img_copy, figsize=(10, 10))\n"
   ]
  },
  {
   "cell_type": "markdown",
   "id": "100d4636",
   "metadata": {},
   "source": [
    "#\n",
    "\n",
    "## Example Usage of Image Processing Functions\n",
    "\n",
    "In this section, we demonstrate the application of the previously defined functions. We will:\n",
    "\n",
    "1. Read an image of a 'star' shape from a specified path.\n",
    "2. Apply the `chain_hist` function to this image to create a histogram of chain code directions.\n",
    "3. Display the resulting chain code histogram.\n",
    "\n",
    "This example helps illustrate how the functions work in a real-world scenario.\n"
   ]
  },
  {
   "cell_type": "code",
   "execution_count": 3,
   "id": "fec6495a",
   "metadata": {},
   "outputs": [
    {
     "data": {
      "text/plain": [
       "array([0.15909091, 0.08333333, 0.17929293, 0.05555556, 0.20454545,\n",
       "       0.05050505, 0.1969697 , 0.07070707])"
      ]
     },
     "execution_count": 3,
     "metadata": {},
     "output_type": "execute_result"
    }
   ],
   "source": [
    "# Example usage\n",
    "img = imread(\"C:\\\\Users\\\\Abdien\\\\ABDIEN\\\\Study\\\\CV\\\\SHAPES\\\\shapes\\\\star\\\\0.png\")\n",
    "chain_histogram = chain_hist(img)\n",
    "chain_histogram"
   ]
  },
  {
   "cell_type": "markdown",
   "id": "0dcd4b71",
   "metadata": {},
   "source": [
    "#\n",
    "\n",
    "## Creating a DataFrame from the Image Dataset\n",
    "\n",
    "In this part, we perform the following steps:\n",
    "\n",
    "1. Define the path to the image dataset.\n",
    "2. Utilize the `create_df` function to build a DataFrame. This DataFrame will contain two columns: \n",
    "   - 'path': The file paths of the images.\n",
    "   - 'output': The corresponding labels of the images (e.g., circle, square, star, triangle).\n",
    "3. Display the first five entries of the DataFrame for a quick preview.\n",
    "\n",
    "This process is essential for organizing our dataset, making it more accessible and structured for further analysis and model training.\n"
   ]
  },
  {
   "cell_type": "code",
   "execution_count": 4,
   "id": "78ced150",
   "metadata": {},
   "outputs": [
    {
     "data": {
      "text/html": [
       "<div>\n",
       "<style scoped>\n",
       "    .dataframe tbody tr th:only-of-type {\n",
       "        vertical-align: middle;\n",
       "    }\n",
       "\n",
       "    .dataframe tbody tr th {\n",
       "        vertical-align: top;\n",
       "    }\n",
       "\n",
       "    .dataframe thead th {\n",
       "        text-align: right;\n",
       "    }\n",
       "</style>\n",
       "<table border=\"1\" class=\"dataframe\">\n",
       "  <thead>\n",
       "    <tr style=\"text-align: right;\">\n",
       "      <th></th>\n",
       "      <th>path</th>\n",
       "      <th>output</th>\n",
       "    </tr>\n",
       "  </thead>\n",
       "  <tbody>\n",
       "    <tr>\n",
       "      <th>0</th>\n",
       "      <td>shapes\\circle\\0.png</td>\n",
       "      <td>0</td>\n",
       "    </tr>\n",
       "    <tr>\n",
       "      <th>1</th>\n",
       "      <td>shapes\\circle\\1.png</td>\n",
       "      <td>0</td>\n",
       "    </tr>\n",
       "    <tr>\n",
       "      <th>2</th>\n",
       "      <td>shapes\\circle\\10.png</td>\n",
       "      <td>0</td>\n",
       "    </tr>\n",
       "    <tr>\n",
       "      <th>3</th>\n",
       "      <td>shapes\\circle\\100.png</td>\n",
       "      <td>0</td>\n",
       "    </tr>\n",
       "    <tr>\n",
       "      <th>4</th>\n",
       "      <td>shapes\\circle\\1000.png</td>\n",
       "      <td>0</td>\n",
       "    </tr>\n",
       "  </tbody>\n",
       "</table>\n",
       "</div>"
      ],
      "text/plain": [
       "                     path  output\n",
       "0     shapes\\circle\\0.png       0\n",
       "1     shapes\\circle\\1.png       0\n",
       "2    shapes\\circle\\10.png       0\n",
       "3   shapes\\circle\\100.png       0\n",
       "4  shapes\\circle\\1000.png       0"
      ]
     },
     "execution_count": 4,
     "metadata": {},
     "output_type": "execute_result"
    }
   ],
   "source": [
    "# Path to the dataset\n",
    "dataset_path = \"shapes\"\n",
    "\n",
    "# Create a DataFrame with image paths and their labels\n",
    "df = create_df(dataset_path)\n",
    "df.head(5)"
   ]
  },
  {
   "cell_type": "markdown",
   "id": "d6fdbe18",
   "metadata": {},
   "source": [
    "#\n",
    "\n",
    "## Feature Extraction and Dataset Splitting\n",
    "\n",
    "Here, we perform critical steps in preparing our data for the machine learning model:\n",
    "\n",
    "1. **Feature Extraction**:\n",
    "   - We call the `extract_features` function on our image paths to obtain a feature array `x`. \n",
    "   - This function applies the previously defined `chain_hist` function to each image and aggregates the results into a feature matrix.\n",
    "\n",
    "2. **Extracting Labels**:\n",
    "   - We assign the 'output' column of our DataFrame to `y`, which contains the labels for our images.\n",
    "\n",
    "3. **Splitting the Dataset**:\n",
    "   - The dataset is split into training and testing sets using `train_test_split` from scikit-learn.\n",
    "   - We allocate 70% of the data for training (`x_train`, `y_train`) and 30% for testing (`x_test`, `y_test`).\n",
    "   - The split is done randomly with a set seed (`random_state=22`) for reproducibility.\n",
    "\n",
    "These steps are crucial for training a machine learning model as they ensure that the model is tested on unseen data, evaluating its performance effectively.\n"
   ]
  },
  {
   "cell_type": "code",
   "execution_count": 5,
   "id": "74fc3aac",
   "metadata": {},
   "outputs": [
    {
     "name": "stderr",
     "output_type": "stream",
     "text": [
      "100%|██████████████████████████████████████████████████████████████████████████| 14970/14970 [00:13<00:00, 1105.08it/s]\n"
     ]
    }
   ],
   "source": [
    "# Extract features from the images\n",
    "x = extract_features(df['path'])\n",
    "\n",
    "# Labels\n",
    "y = df['output']\n",
    "\n",
    "# Splitting the dataset into training and testing sets\n",
    "x_train, x_test, y_train, y_test = train_test_split(x, y, test_size=0.2, random_state=22)\n"
   ]
  },
  {
   "cell_type": "markdown",
   "id": "77e75f69",
   "metadata": {},
   "source": [
    "#\n",
    "\n",
    "## Stacking Ensemble Model Setup and Evaluation\n",
    "\n",
    "In this section, we configure and train a Stacking Ensemble Model for improved classification performance:\n",
    "\n",
    "1. **Defining Base Models**:\n",
    "   - A collection of diverse and robust classifiers (`RandomForestClassifier`, `XGBClassifier`, `ExtraTreesClassifier`) are chosen as base models, each with 200 estimators.\n",
    "\n",
    "2. **Meta-Learner Definition**:\n",
    "   - `GradientBoostingClassifier` with 50 estimators is used as the meta-learner, which will learn to effectively combine the predictions from the base models.\n",
    "\n",
    "3. **Initializing and Training the Stacking Classifier**:\n",
    "   - The `StackingClassifier` is initialized with the specified base models and meta-learner, employing all available CPU cores (`n_jobs=-1`) and 5-fold cross-validation (`cv=5`).\n",
    "   - The model is trained using the training data (`x_train`, `y_train`).\n",
    "\n",
    "4. **Model Evaluation**:\n",
    "   - The trained Stacking Classifier is evaluated on both the training and test datasets.\n",
    "   - The accuracy scores for both training and test sets are printed to assess the model's performance.\n",
    "\n",
    "This stacked approach aims to harness the strengths of individual models and improve overall predictive accuracy.\n"
   ]
  },
  {
   "cell_type": "code",
   "execution_count": 6,
   "id": "17e3bf68",
   "metadata": {},
   "outputs": [
    {
     "name": "stdout",
     "output_type": "stream",
     "text": [
      "Training Accuracy: 0.9945724782899131\n",
      "Testing Accuracy: 0.9515698062792252\n"
     ]
    }
   ],
   "source": [
    "\n",
    "# Define the base models\n",
    "base_models = [\n",
    "    ('rf', RandomForestClassifier(n_estimators=200)),  # Random Forest\n",
    "    ('xgb', XGBClassifier(n_estimators=200)),          # XGBoost\n",
    "    ('et', ExtraTreesClassifier(n_estimators=200))     # Extra Trees\n",
    "]\n",
    "\n",
    "# Define the meta-learner\n",
    "meta_learner = GradientBoostingClassifier(n_estimators=50)  # Gradient Boosting\n",
    "\n",
    "# Initialize the Stacking model\n",
    "stacked_model = StackingClassifier(estimators=base_models, final_estimator=meta_learner, n_jobs=-1, cv=5)\n",
    "\n",
    "# Train the Stacking model\n",
    "stacked_model.fit(x_train, y_train)\n",
    "\n",
    "# Evaluate the model\n",
    "y_pred_train = stacked_model.predict(x_train)\n",
    "y_pred_test = stacked_model.predict(x_test)\n",
    "\n",
    "print(\"Training Accuracy:\", accuracy_score(y_train, y_pred_train))\n",
    "print(\"Testing Accuracy:\", accuracy_score(y_test, y_pred_test))"
   ]
  },
  {
   "cell_type": "markdown",
   "id": "69aeb5d9",
   "metadata": {},
   "source": [
    "#\n",
    "\n",
    "## Example: Displaying an Image\n",
    "\n",
    "This example demonstrates how to read and display an image:\n",
    "\n",
    "1. The `imread` function is used to load an image named \"shapes.png\" into the variable `test_img`.\n",
    "2. We then display this image using the `imshow` function.\n",
    "\n",
    "This provides a visual verification that our image loading and displaying functions are working correctly.\n"
   ]
  },
  {
   "cell_type": "code",
   "execution_count": 7,
   "id": "3e0b721a",
   "metadata": {},
   "outputs": [
    {
     "data": {
      "image/png": "[encoded data removed]",
      "text/plain": [
       "<Figure size 500x500 with 1 Axes>"
      ]
     },
     "metadata": {},
     "output_type": "display_data"
    }
   ],
   "source": [
    "# Example usage\n",
    "test_img = imread(\"shapes.png\")\n",
    "imshow(test_img)"
   ]
  },
  {
   "cell_type": "markdown",
   "id": "d35e1869",
   "metadata": {},
   "source": [
    "#\n",
    "\n",
    "## Detecting and Labeling Connected Components in an Image\n",
    "\n",
    "In this part, we apply the `detect_connected_components` function to the loaded image:\n",
    "\n",
    "1. **Function Application**:\n",
    "   - The `detect_connected_components` function is called on `test_img` with specified width and height ranges set to (1, 600).\n",
    "   - This function detects individual shapes in the image and classifies them based on their size.\n",
    "\n",
    "2. **Operation Details**:\n",
    "   - The function first converts the image to a binary format.\n",
    "   - It then identifies connected components (individual shapes) within the specified size range.\n",
    "   - For each detected shape, the function predicts its class (e.g., circle, square, star, triangle) using the trained stacked model.\n",
    "   - Finally, it draws rectangles around these shapes and annotates them with their predicted labels.\n",
    "\n",
    "This step illustrates the ability of our model to not only identify different shapes in a complex image but also to classify each shape accurately.\n"
   ]
  },
  {
   "cell_type": "code",
   "execution_count": 8,
   "id": "a96d3dc8",
   "metadata": {},
   "outputs": [
    {
     "data": {
      "image/png": "[encoded data removed]",
      "text/plain": [
       "<Figure size 1000x1000 with 1 Axes>"
      ]
     },
     "metadata": {},
     "output_type": "display_data"
    }
   ],
   "source": [
    "detect_connected_components(test_img, width_range=(1, 600), height_range=(1, 600))"
   ]
  },
  {
   "cell_type": "code",
   "execution_count": null,
   "id": "1eb33f45",
   "metadata": {},
   "outputs": [],
   "source": []
  }
 ],
 "metadata": {
  "kernelspec": {
   "display_name": "Python 3 (ipykernel)",
   "language": "python",
   "name": "python3"
  },
  "language_info": {
   "codemirror_mode": {
    "name": "ipython",
    "version": 3
   },
   "file_extension": ".py",
   "mimetype": "text/x-python",
   "name": "python",
   "nbconvert_exporter": "python",
   "pygments_lexer": "ipython3",
   "version": "3.11.4"
  }
 },
 "nbformat": 4,
 "nbformat_minor": 5
}
